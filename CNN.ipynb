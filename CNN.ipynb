{
 "cells": [
  {
   "cell_type": "code",
   "execution_count": 1,
   "metadata": {
    "id": "h6Xhbd6eveHZ"
   },
   "outputs": [
    {
     "name": "stdout",
     "output_type": "stream",
     "text": [
      "WARNING:tensorflow:From C:\\Users\\PMLS\\anaconda3\\Lib\\site-packages\\keras\\src\\losses.py:2976: The name tf.losses.sparse_softmax_cross_entropy is deprecated. Please use tf.compat.v1.losses.sparse_softmax_cross_entropy instead.\n",
      "\n"
     ]
    }
   ],
   "source": [
    "import tensorflow as tf\n",
    "from keras.preprocessing.image import ImageDataGenerator"
   ]
  },
  {
   "cell_type": "code",
   "execution_count": 2,
   "metadata": {
    "colab": {
     "base_uri": "https://localhost:8080/",
     "height": 36
    },
    "id": "YAxBj7gI3qD3",
    "outputId": "8b0f4f69-7f67-42d2-a383-d921f51f9648"
   },
   "outputs": [
    {
     "data": {
      "text/plain": [
       "'2.15.0'"
      ]
     },
     "execution_count": 2,
     "metadata": {},
     "output_type": "execute_result"
    }
   ],
   "source": [
    "tf.__version__"
   ]
  },
  {
   "cell_type": "markdown",
   "metadata": {
    "id": "x56Q45JN4F8I"
   },
   "source": [
    "# **Part 1 - Data Preprocessing**"
   ]
  },
  {
   "cell_type": "code",
   "execution_count": 3,
   "metadata": {
    "id": "amTRbo-x4P_f"
   },
   "outputs": [
    {
     "name": "stdout",
     "output_type": "stream",
     "text": [
      "Found 8000 images belonging to 2 classes.\n"
     ]
    }
   ],
   "source": [
    "train_datagen = ImageDataGenerator(rescale = 1./255,\n",
    "                                   shear_range = 0.2,\n",
    "                                   zoom_range = 0.2,\n",
    "                                   horizontal_flip = True)\n",
    "training_set = train_datagen.flow_from_directory('dataset/training_set',\n",
    "                                                 target_size = (64, 64),\n",
    "                                                 batch_size = 32,\n",
    "                                                 class_mode = 'binary')"
   ]
  },
  {
   "cell_type": "code",
   "execution_count": 4,
   "metadata": {
    "id": "UKWqHap0AMik"
   },
   "outputs": [
    {
     "name": "stdout",
     "output_type": "stream",
     "text": [
      "Found 2000 images belonging to 2 classes.\n"
     ]
    }
   ],
   "source": [
    "test_datagen = ImageDataGenerator(rescale = 1./255)\n",
    "test_set = test_datagen.flow_from_directory('dataset/test_set',\n",
    "                                            target_size = (64, 64),\n",
    "                                            batch_size = 32,\n",
    "                                            class_mode = 'binary')"
   ]
  },
  {
   "cell_type": "markdown",
   "metadata": {
    "id": "Pr-jbrpzBIjj"
   },
   "source": [
    "# CNN"
   ]
  },
  {
   "cell_type": "code",
   "execution_count": 5,
   "metadata": {
    "id": "RgQ7vQoZBKkL"
   },
   "outputs": [
    {
     "name": "stdout",
     "output_type": "stream",
     "text": [
      "WARNING:tensorflow:From C:\\Users\\PMLS\\anaconda3\\Lib\\site-packages\\keras\\src\\backend.py:873: The name tf.get_default_graph is deprecated. Please use tf.compat.v1.get_default_graph instead.\n",
      "\n"
     ]
    }
   ],
   "source": [
    "cnn = tf.keras.models.Sequential()\n"
   ]
  },
  {
   "cell_type": "markdown",
   "metadata": {
    "id": "aNnSeIJrC8yB"
   },
   "source": [
    "# ***convolution Layer***"
   ]
  },
  {
   "cell_type": "code",
   "execution_count": 6,
   "metadata": {
    "id": "bDMT-NaqBUMz"
   },
   "outputs": [],
   "source": [
    "cnn.add(tf.keras.layers.Conv2D(filters= 32, kernel_size=3, activation='relu', input_shape=[64, 64, 3]))"
   ]
  },
  {
   "cell_type": "markdown",
   "metadata": {
    "id": "FpvT1gWQDB5O"
   },
   "source": [
    "# **Pooling**"
   ]
  },
  {
   "cell_type": "code",
   "execution_count": 7,
   "metadata": {
    "id": "JSfJnyDbDMCT"
   },
   "outputs": [
    {
     "name": "stdout",
     "output_type": "stream",
     "text": [
      "WARNING:tensorflow:From C:\\Users\\PMLS\\anaconda3\\Lib\\site-packages\\keras\\src\\layers\\pooling\\max_pooling2d.py:161: The name tf.nn.max_pool is deprecated. Please use tf.nn.max_pool2d instead.\n",
      "\n"
     ]
    }
   ],
   "source": [
    "cnn.add(tf.keras.layers.MaxPool2D(pool_size=2, strides=2))"
   ]
  },
  {
   "cell_type": "markdown",
   "metadata": {
    "id": "IuQewrbXD7Ma"
   },
   "source": [
    "# 2nd Convolutional **layers**"
   ]
  },
  {
   "cell_type": "code",
   "execution_count": 8,
   "metadata": {
    "id": "7Eu0GHrqEBg8"
   },
   "outputs": [],
   "source": [
    "cnn.add(tf.keras.layers.Conv2D(filters= 32, kernel_size=3, activation='relu'))\n",
    "cnn.add(tf.keras.layers.MaxPool2D(pool_size=2, strides=2))"
   ]
  },
  {
   "cell_type": "markdown",
   "metadata": {
    "id": "0zB58xXuEQdP"
   },
   "source": [
    "# **Flattening**"
   ]
  },
  {
   "cell_type": "code",
   "execution_count": 9,
   "metadata": {
    "id": "P9mJgOIhEUIC"
   },
   "outputs": [],
   "source": [
    "cnn.add(tf.keras.layers.Flatten())"
   ]
  },
  {
   "cell_type": "markdown",
   "metadata": {
    "id": "agn2NwxwEkz6"
   },
   "source": [
    "# Full **connection**"
   ]
  },
  {
   "cell_type": "code",
   "execution_count": 10,
   "metadata": {
    "id": "QnTS6G5sEovk"
   },
   "outputs": [],
   "source": [
    "cnn.add(tf.keras.layers.Dense(units=128, activation='relu'))"
   ]
  },
  {
   "cell_type": "markdown",
   "metadata": {
    "id": "20T-aXEWEteV"
   },
   "source": [
    "# **Output Layer**"
   ]
  },
  {
   "cell_type": "code",
   "execution_count": 11,
   "metadata": {
    "id": "m7z34p9eEyWw"
   },
   "outputs": [],
   "source": [
    "cnn.add(tf.keras.layers.Dense(units=1, activation='sigmoid'))"
   ]
  },
  {
   "cell_type": "markdown",
   "metadata": {
    "id": "iKAl5x4iE8pQ"
   },
   "source": [
    "#  **Training**"
   ]
  },
  {
   "cell_type": "code",
   "execution_count": 12,
   "metadata": {
    "id": "A7TwywcMFkyd"
   },
   "outputs": [
    {
     "name": "stdout",
     "output_type": "stream",
     "text": [
      "WARNING:tensorflow:From C:\\Users\\PMLS\\anaconda3\\Lib\\site-packages\\keras\\src\\optimizers\\__init__.py:309: The name tf.train.Optimizer is deprecated. Please use tf.compat.v1.train.Optimizer instead.\n",
      "\n"
     ]
    }
   ],
   "source": [
    "cnn.compile(optimizer= 'adam', loss= 'binary_crossentropy', metrics= ['accuracy'] )"
   ]
  },
  {
   "cell_type": "code",
   "execution_count": 13,
   "metadata": {
    "colab": {
     "base_uri": "https://localhost:8080/",
     "height": 141
    },
    "id": "3v2Voe_QG46-",
    "outputId": "437ef25a-215a-4c41-d6c4-0c7cc55a2a06"
   },
   "outputs": [
    {
     "name": "stdout",
     "output_type": "stream",
     "text": [
      "Epoch 1/25\n",
      "WARNING:tensorflow:From C:\\Users\\PMLS\\anaconda3\\Lib\\site-packages\\keras\\src\\utils\\tf_utils.py:492: The name tf.ragged.RaggedTensorValue is deprecated. Please use tf.compat.v1.ragged.RaggedTensorValue instead.\n",
      "\n",
      "WARNING:tensorflow:From C:\\Users\\PMLS\\anaconda3\\Lib\\site-packages\\keras\\src\\engine\\base_layer_utils.py:384: The name tf.executing_eagerly_outside_functions is deprecated. Please use tf.compat.v1.executing_eagerly_outside_functions instead.\n",
      "\n",
      "250/250 [==============================] - 103s 405ms/step - loss: 0.6515 - accuracy: 0.6049 - val_loss: 0.5762 - val_accuracy: 0.7085\n",
      "Epoch 2/25\n",
      "250/250 [==============================] - 44s 174ms/step - loss: 0.5802 - accuracy: 0.6998 - val_loss: 0.6306 - val_accuracy: 0.6805\n",
      "Epoch 3/25\n",
      "250/250 [==============================] - 43s 172ms/step - loss: 0.5419 - accuracy: 0.7239 - val_loss: 0.5372 - val_accuracy: 0.7350\n",
      "Epoch 4/25\n",
      "250/250 [==============================] - 44s 175ms/step - loss: 0.5150 - accuracy: 0.7416 - val_loss: 0.5279 - val_accuracy: 0.7445\n",
      "Epoch 5/25\n",
      "250/250 [==============================] - 44s 175ms/step - loss: 0.4936 - accuracy: 0.7596 - val_loss: 0.5344 - val_accuracy: 0.7300\n",
      "Epoch 6/25\n",
      "250/250 [==============================] - 44s 174ms/step - loss: 0.4717 - accuracy: 0.7740 - val_loss: 0.4854 - val_accuracy: 0.7750\n",
      "Epoch 7/25\n",
      "250/250 [==============================] - 44s 175ms/step - loss: 0.4612 - accuracy: 0.7836 - val_loss: 0.4724 - val_accuracy: 0.7800\n",
      "Epoch 8/25\n",
      "250/250 [==============================] - 43s 172ms/step - loss: 0.4509 - accuracy: 0.7890 - val_loss: 0.4906 - val_accuracy: 0.7520\n",
      "Epoch 9/25\n",
      "250/250 [==============================] - 43s 174ms/step - loss: 0.4272 - accuracy: 0.7984 - val_loss: 0.4559 - val_accuracy: 0.7875\n",
      "Epoch 10/25\n",
      "250/250 [==============================] - 44s 174ms/step - loss: 0.4261 - accuracy: 0.7995 - val_loss: 0.4989 - val_accuracy: 0.7870\n",
      "Epoch 11/25\n",
      "250/250 [==============================] - 44s 174ms/step - loss: 0.4129 - accuracy: 0.8067 - val_loss: 0.4776 - val_accuracy: 0.7810\n",
      "Epoch 12/25\n",
      "250/250 [==============================] - 43s 174ms/step - loss: 0.4007 - accuracy: 0.8126 - val_loss: 0.4618 - val_accuracy: 0.7935\n",
      "Epoch 13/25\n",
      "250/250 [==============================] - 44s 174ms/step - loss: 0.3889 - accuracy: 0.8223 - val_loss: 0.4647 - val_accuracy: 0.7915\n",
      "Epoch 14/25\n",
      "250/250 [==============================] - 43s 171ms/step - loss: 0.3905 - accuracy: 0.8213 - val_loss: 0.4607 - val_accuracy: 0.7910\n",
      "Epoch 15/25\n",
      "250/250 [==============================] - 43s 173ms/step - loss: 0.3692 - accuracy: 0.8353 - val_loss: 0.5154 - val_accuracy: 0.7685\n",
      "Epoch 16/25\n",
      "250/250 [==============================] - 43s 171ms/step - loss: 0.3671 - accuracy: 0.8329 - val_loss: 0.4572 - val_accuracy: 0.7985\n",
      "Epoch 17/25\n",
      "250/250 [==============================] - 43s 172ms/step - loss: 0.3502 - accuracy: 0.8459 - val_loss: 0.4427 - val_accuracy: 0.8030\n",
      "Epoch 18/25\n",
      "250/250 [==============================] - 43s 172ms/step - loss: 0.3491 - accuracy: 0.8432 - val_loss: 0.4558 - val_accuracy: 0.8010\n",
      "Epoch 19/25\n",
      "250/250 [==============================] - 43s 172ms/step - loss: 0.3286 - accuracy: 0.8519 - val_loss: 0.4562 - val_accuracy: 0.8185\n",
      "Epoch 20/25\n",
      "250/250 [==============================] - 43s 171ms/step - loss: 0.3319 - accuracy: 0.8525 - val_loss: 0.5586 - val_accuracy: 0.7620\n",
      "Epoch 21/25\n",
      "250/250 [==============================] - 43s 173ms/step - loss: 0.3140 - accuracy: 0.8670 - val_loss: 0.4952 - val_accuracy: 0.8055\n",
      "Epoch 22/25\n",
      "250/250 [==============================] - 43s 171ms/step - loss: 0.3063 - accuracy: 0.8643 - val_loss: 0.4973 - val_accuracy: 0.7960\n",
      "Epoch 23/25\n",
      "250/250 [==============================] - 44s 175ms/step - loss: 0.2942 - accuracy: 0.8741 - val_loss: 0.4735 - val_accuracy: 0.8155\n",
      "Epoch 24/25\n",
      "250/250 [==============================] - 43s 171ms/step - loss: 0.2793 - accuracy: 0.8805 - val_loss: 0.4981 - val_accuracy: 0.8040\n",
      "Epoch 25/25\n",
      "250/250 [==============================] - 43s 173ms/step - loss: 0.2770 - accuracy: 0.8848 - val_loss: 0.5316 - val_accuracy: 0.7885\n"
     ]
    },
    {
     "data": {
      "text/plain": [
       "<keras.src.callbacks.History at 0x1971c7b2d50>"
      ]
     },
     "execution_count": 13,
     "metadata": {},
     "output_type": "execute_result"
    }
   ],
   "source": [
    "cnn.fit(x = training_set, validation_data=test_set, epochs= 25 )"
   ]
  },
  {
   "cell_type": "markdown",
   "metadata": {
    "id": "RjrLJWH0H-dn"
   },
   "source": [
    "# **Prediction**:"
   ]
  },
  {
   "cell_type": "code",
   "execution_count": 25,
   "metadata": {
    "id": "F72Qu7YSIGAA"
   },
   "outputs": [
    {
     "name": "stdout",
     "output_type": "stream",
     "text": [
      "1/1 [==============================] - 0s 75ms/step\n",
      "[[0.1500278]]\n",
      "cat\n"
     ]
    }
   ],
   "source": [
    "import numpy as np\n",
    "from keras.preprocessing import image\n",
    "test_image = image.load_img('dataset/single_prediction/dog2.jpg', target_size = (64, 64))\n",
    "test_image = image.img_to_array(test_image)\n",
    "test_image = np.expand_dims(test_image, axis = 0)\n",
    "result = cnn.predict(test_image/255.0)\n",
    "training_set.class_indices\n",
    "print (result)\n",
    "if result[0][0] > 0.5:\n",
    "  prediction = 'dog'\n",
    "else:\n",
    "  prediction = 'cat'\n",
    "\n",
    "print (prediction)"
   ]
  },
  {
   "cell_type": "code",
   "execution_count": null,
   "metadata": {},
   "outputs": [],
   "source": []
  }
 ],
 "metadata": {
  "colab": {
   "provenance": []
  },
  "kernelspec": {
   "display_name": "Python 3 (ipykernel)",
   "language": "python",
   "name": "python3"
  },
  "language_info": {
   "codemirror_mode": {
    "name": "ipython",
    "version": 3
   },
   "file_extension": ".py",
   "mimetype": "text/x-python",
   "name": "python",
   "nbconvert_exporter": "python",
   "pygments_lexer": "ipython3",
   "version": "3.11.5"
  }
 },
 "nbformat": 4,
 "nbformat_minor": 1
}
